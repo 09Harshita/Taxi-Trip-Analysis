{
 "cells": [
  {
   "cell_type": "markdown",
   "metadata": {},
   "source": [
    "#### Put Taxi  data dictionaries into HDFS"
   ]
  },
  {
   "cell_type": "code",
   "execution_count": 3,
   "metadata": {},
   "outputs": [],
   "source": [
    "! hadoop fs -mkdir taxi_trip_data"
   ]
  },
  {
   "cell_type": "code",
   "execution_count": 10,
   "metadata": {},
   "outputs": [
    {
     "name": "stdout",
     "output_type": "stream",
     "text": [
      "Found 2 items\r\n",
      "drwxr-xr-x   - tswde5bdhuser035 tswde5bdhuser035          0 2023-01-23 12:47 taxi_trip_data/Taxi_zone\r\n",
      "drwxr-xr-x   - tswde5bdhuser035 tswde5bdhuser035          0 2023-01-23 12:46 taxi_trip_data/Yellow_tripdata\r\n"
     ]
    }
   ],
   "source": [
    "! hadoop fs -ls taxi_trip_data/"
   ]
  },
  {
   "cell_type": "code",
   "execution_count": null,
   "metadata": {},
   "outputs": [],
   "source": [
    "! hadoop fs -mkdir taxi_trip_data/Yellow_tripdata"
   ]
  },
  {
   "cell_type": "code",
   "execution_count": null,
   "metadata": {},
   "outputs": [],
   "source": [
    "! hadoop fs -mkdir taxi_trip_data/Taxi_zone"
   ]
  },
  {
   "cell_type": "code",
   "execution_count": 7,
   "metadata": {},
   "outputs": [],
   "source": [
    "! hadoop fs -put /home/tswde5bdhuser035/yellow_tripdata_2020-12_DATASET/yellow_tripdata_2020-12.csv taxi_trip_data/Yellow_tripdata"
   ]
  },
  {
   "cell_type": "code",
   "execution_count": 9,
   "metadata": {},
   "outputs": [],
   "source": [
    "! hadoop fs -put /home/tswde5bdhuser035/yellow_tripdata_2020-12_DATASET/taxi+_zone_lookup.csv taxi_trip_data/Taxi_zone"
   ]
  },
  {
   "cell_type": "code",
   "execution_count": 11,
   "metadata": {},
   "outputs": [
    {
     "name": "stdout",
     "output_type": "stream",
     "text": [
      "Found 1 items\r\n",
      "-rw-r--r--   3 tswde5bdhuser035 tswde5bdhuser035  134481400 2023-01-22 15:36 taxi_trip_data/Yellow_tripdata/yellow_tripdata_2020-12.csv\r\n"
     ]
    }
   ],
   "source": [
    "! hadoop fs -ls taxi_trip_data/Yellow_tripdata"
   ]
  },
  {
   "cell_type": "code",
   "execution_count": 12,
   "metadata": {},
   "outputs": [
    {
     "name": "stdout",
     "output_type": "stream",
     "text": [
      "Found 1 items\r\n",
      "-rw-r--r--   3 tswde5bdhuser035 tswde5bdhuser035      12322 2023-01-22 15:37 /user/tswde5bdhuser035/taxi_trip_data/Taxi_zone/taxi+_zone_lookup.csv\r\n"
     ]
    }
   ],
   "source": [
    "! hadoop fs -ls /user/tswde5bdhuser035/taxi_trip_data/Taxi_zone"
   ]
  },
  {
   "cell_type": "markdown",
   "metadata": {},
   "source": [
    "#### Create SparkSession"
   ]
  },
  {
   "cell_type": "code",
   "execution_count": 104,
   "metadata": {},
   "outputs": [],
   "source": [
    "from pyspark.sql import SparkSession\n",
    "spark = SparkSession.builder.getOrCreate()"
   ]
  },
  {
   "cell_type": "markdown",
   "metadata": {},
   "source": [
    "#### Load taxi_trip_data into a DataFrame"
   ]
  },
  {
   "cell_type": "code",
   "execution_count": 105,
   "metadata": {},
   "outputs": [],
   "source": [
    "Yellow_taxi_trip_data_path = '/user/tswde5bdhuser035/taxi_trip_data/Yellow_tripdata'"
   ]
  },
  {
   "cell_type": "code",
   "execution_count": 106,
   "metadata": {},
   "outputs": [],
   "source": [
    "Zone_taxi_trip_data_path = '/user/tswde5bdhuser035/taxi_trip_data/Taxi_zone'"
   ]
  },
  {
   "cell_type": "code",
   "execution_count": 107,
   "metadata": {},
   "outputs": [],
   "source": [
    "Yellow_taxi_trip_DF = spark.read.csv(Yellow_taxi_trip_data_path)"
   ]
  },
  {
   "cell_type": "code",
   "execution_count": 108,
   "metadata": {},
   "outputs": [],
   "source": [
    "Zone_taxi_trip_DF = spark.read.csv(Zone_taxi_trip_data_path)"
   ]
  },
  {
   "cell_type": "markdown",
   "metadata": {},
   "source": [
    "#### Print the schema"
   ]
  },
  {
   "cell_type": "code",
   "execution_count": 109,
   "metadata": {},
   "outputs": [
    {
     "name": "stdout",
     "output_type": "stream",
     "text": [
      "root\n",
      " |-- _c0: string (nullable = true)\n",
      " |-- _c1: string (nullable = true)\n",
      " |-- _c2: string (nullable = true)\n",
      " |-- _c3: string (nullable = true)\n",
      " |-- _c4: string (nullable = true)\n",
      " |-- _c5: string (nullable = true)\n",
      " |-- _c6: string (nullable = true)\n",
      " |-- _c7: string (nullable = true)\n",
      " |-- _c8: string (nullable = true)\n",
      " |-- _c9: string (nullable = true)\n",
      " |-- _c10: string (nullable = true)\n",
      " |-- _c11: string (nullable = true)\n",
      " |-- _c12: string (nullable = true)\n",
      " |-- _c13: string (nullable = true)\n",
      " |-- _c14: string (nullable = true)\n",
      " |-- _c15: string (nullable = true)\n",
      " |-- _c16: string (nullable = true)\n",
      " |-- _c17: string (nullable = true)\n",
      "\n"
     ]
    }
   ],
   "source": [
    "Yellow_taxi_trip_DF.printSchema()"
   ]
  },
  {
   "cell_type": "code",
   "execution_count": 110,
   "metadata": {},
   "outputs": [
    {
     "name": "stdout",
     "output_type": "stream",
     "text": [
      "+--------+--------------------+--------------------+---------------+-------------+----------+------------------+------------+------------+------------+-----------+-----+-------+----------+------------+--------------------+------------+--------------------+\n",
      "|     _c0|                 _c1|                 _c2|            _c3|          _c4|       _c5|               _c6|         _c7|         _c8|         _c9|       _c10| _c11|   _c12|      _c13|        _c14|                _c15|        _c16|                _c17|\n",
      "+--------+--------------------+--------------------+---------------+-------------+----------+------------------+------------+------------+------------+-----------+-----+-------+----------+------------+--------------------+------------+--------------------+\n",
      "|VendorID|tpep_pickup_datetime|tpep_dropoff_date...|passenger_count|trip_distance|RatecodeID|store_and_fwd_flag|PULocationID|DOLocationID|payment_type|fare_amount|extra|mta_tax|tip_amount|tolls_amount|improvement_surch...|total_amount|congestion_surcharge|\n",
      "|       1| 2020-12-01 00:07:13| 2020-12-01 00:18:12|              1|         7.60|         1|                 N|         138|         263|           1|       21.5|    3|    0.5|       2.5|        6.12|                 0.3|       33.92|                 2.5|\n",
      "|       1| 2020-12-01 00:41:19| 2020-12-01 00:49:45|              1|         1.60|         1|                 N|         140|         263|           1|          8|    3|    0.5|      2.95|           0|                 0.3|       14.75|                 2.5|\n",
      "|       2| 2020-12-01 00:33:40| 2020-12-01 01:00:35|              1|        16.74|         2|                 N|         132|         164|           1|         52|    0|    0.5|       2.5|        6.12|                 0.3|       63.92|                 2.5|\n",
      "|       2| 2020-12-01 00:02:15| 2020-12-01 00:13:09|              1|         4.16|         1|                 N|         238|          48|           1|         14|  0.5|    0.5|         1|           0|                 0.3|        18.8|                 2.5|\n",
      "|       2| 2020-12-01 00:37:42| 2020-12-01 00:45:11|              1|         2.22|         1|                 N|         238|          41|           2|        8.5|  0.5|    0.5|         0|           0|                 0.3|         9.8|                   0|\n",
      "|       1| 2020-12-01 00:27:47| 2020-12-01 00:45:40|              0|         8.40|         1|                 N|         138|         137|           1|         25|    3|    0.5|         6|        6.12|                 0.3|       40.92|                 2.5|\n",
      "|       2| 2020-12-01 00:40:47| 2020-12-01 00:57:03|              1|         6.44|         1|                 N|         132|         191|           1|       19.5|  0.5|    0.5|      4.16|           0|                 0.3|       24.96|                   0|\n",
      "|       2| 2020-12-01 00:01:42| 2020-12-01 00:06:06|              1|          .99|         1|                 N|         234|         137|           1|        5.5|  0.5|    0.5|      1.86|           0|                 0.3|       11.16|                 2.5|\n",
      "|       2| 2020-12-01 00:58:24| 2020-12-01 01:36:14|              2|        11.81|         1|                 N|         261|           7|           1|       36.5|  0.5|    0.5|         1|           0|                 0.3|        41.3|                 2.5|\n",
      "|       1| 2020-12-01 00:08:15| 2020-12-01 00:16:04|              2|         2.70|         1|                 N|         237|         107|           1|        9.5|    3|    0.5|      2.65|           0|                 0.3|       15.95|                 2.5|\n",
      "|       2| 2020-12-01 00:04:21| 2020-12-01 00:29:00|              1|         6.28|         1|                 N|          41|          68|           2|         23|  0.5|    0.5|         0|           0|                 0.3|        26.8|                 2.5|\n",
      "|       2| 2020-12-01 00:22:03| 2020-12-01 00:52:55|              1|        18.93|         2|                 N|         132|         211|           1|         52|    0|    0.5|     12.28|        6.12|                 0.3|        73.7|                 2.5|\n",
      "|       2| 2020-12-01 00:46:31| 2020-12-01 00:53:49|              5|         2.75|         1|                 N|         249|         230|           2|        9.5|  0.5|    0.5|         0|           0|                 0.3|        13.3|                 2.5|\n",
      "|       2| 2020-12-01 00:51:30| 2020-12-01 01:26:52|              2|        21.80|         2|                 N|         132|          13|           1|         52|    0|    0.5|     11.06|           0|                 0.3|       66.36|                 2.5|\n",
      "|       1| 2020-12-01 00:14:34| 2020-12-01 00:31:04|              1|         7.60|         1|                 N|         140|          65|           1|         23|    3|    0.5|      5.35|           0|                 0.3|       32.15|                 2.5|\n",
      "|       1| 2020-12-01 00:11:02| 2020-12-01 00:17:34|              1|         1.70|         1|                 N|         239|         141|           2|        7.5|    3|    0.5|         0|           0|                 0.3|        11.3|                 2.5|\n",
      "|       1| 2020-12-01 00:54:55| 2020-12-01 00:57:09|              1|          .50|         1|                 N|         263|         141|           2|          4|    3|    0.5|         0|           0|                 0.3|         7.8|                 2.5|\n",
      "|       1| 2020-12-01 00:11:22| 2020-12-01 00:40:36|              1|        21.00|         2|                 N|         132|         231|           1|         52|  2.5|    0.5|     16.55|           0|                 0.3|       71.85|                 2.5|\n",
      "|       2| 2020-11-30 23:59:22| 2020-12-01 00:05:51|              3|          .81|         1|                 N|          50|          48|           1|        5.5|  0.5|    0.5|      1.88|           0|                 0.3|       11.18|                 2.5|\n",
      "+--------+--------------------+--------------------+---------------+-------------+----------+------------------+------------+------------+------------+-----------+-----+-------+----------+------------+--------------------+------------+--------------------+\n",
      "only showing top 20 rows\n",
      "\n"
     ]
    }
   ],
   "source": [
    "Yellow_taxi_trip_DF.show()"
   ]
  },
  {
   "cell_type": "markdown",
   "metadata": {},
   "source": [
    "#### Define the schema of the dataset"
   ]
  },
  {
   "cell_type": "code",
   "execution_count": 111,
   "metadata": {},
   "outputs": [],
   "source": [
    "from pyspark.sql.types import *"
   ]
  },
  {
   "cell_type": "code",
   "execution_count": 112,
   "metadata": {},
   "outputs": [],
   "source": [
    "Schema=StructType([\n",
    "    StructField('VendorID',IntegerType(),nullable=True),\n",
    "    StructField('tpep_pickup_datetime',TimestampType(),nullable=True),\n",
    "    StructField('tpep_dropoff_datetime',TimestampType(),nullable=True),\n",
    "    StructField('passenger_count',IntegerType(),nullable=True),\n",
    "    StructField('trip_distance',FloatType(),nullable=True),\n",
    "    StructField('RatecodeID',IntegerType(),nullable=True),\n",
    "    StructField('store_and_fwd_flag',StringType(),nullable=True),\n",
    "    StructField('PULocationID',IntegerType(),nullable=True),\n",
    "    StructField('DOLocationID',IntegerType(),nullable=True),\n",
    "    StructField('payment_type',IntegerType(),nullable=True),\n",
    "    StructField('fare_amount',FloatType(),nullable=True),\n",
    "    StructField('extra',FloatType(),nullable=True),\n",
    "    StructField('mta_tax',FloatType(),nullable=True),\n",
    "    StructField('tip_amount',FloatType(),nullable=True),\n",
    "    StructField('tolls_amount',FloatType(),nullable=True),\n",
    "    StructField('improvement_surcharge',FloatType(),nullable=True),\n",
    "    StructField('total_amount',FloatType(),nullable=True),\n",
    "    StructField('congestion_surcharge',FloatType(),nullable=True)\n",
    "]\n",
    ")"
   ]
  },
  {
   "cell_type": "code",
   "execution_count": 113,
   "metadata": {},
   "outputs": [],
   "source": [
    "df = spark.read.option('header',True).schema(Schema).csv('/user/tswde5bdhuser035/taxi_trip_data/Yellow_tripdata/yellow_tripdata_2020-12.csv')"
   ]
  },
  {
   "cell_type": "code",
   "execution_count": 114,
   "metadata": {},
   "outputs": [
    {
     "name": "stdout",
     "output_type": "stream",
     "text": [
      "+--------+--------------------+---------------------+---------------+-------------+----------+------------------+------------+------------+------------+-----------+-----+-------+----------+------------+---------------------+------------+--------------------+\n",
      "|VendorID|tpep_pickup_datetime|tpep_dropoff_datetime|passenger_count|trip_distance|RatecodeID|store_and_fwd_flag|PULocationID|DOLocationID|payment_type|fare_amount|extra|mta_tax|tip_amount|tolls_amount|improvement_surcharge|total_amount|congestion_surcharge|\n",
      "+--------+--------------------+---------------------+---------------+-------------+----------+------------------+------------+------------+------------+-----------+-----+-------+----------+------------+---------------------+------------+--------------------+\n",
      "|       1| 2020-12-01 00:07:13|  2020-12-01 00:18:12|              1|          7.6|         1|                 N|         138|         263|           1|       21.5|  3.0|    0.5|       2.5|        6.12|                  0.3|       33.92|                 2.5|\n",
      "|       1| 2020-12-01 00:41:19|  2020-12-01 00:49:45|              1|          1.6|         1|                 N|         140|         263|           1|        8.0|  3.0|    0.5|      2.95|         0.0|                  0.3|       14.75|                 2.5|\n",
      "|       2| 2020-12-01 00:33:40|  2020-12-01 01:00:35|              1|        16.74|         2|                 N|         132|         164|           1|       52.0|  0.0|    0.5|       2.5|        6.12|                  0.3|       63.92|                 2.5|\n",
      "|       2| 2020-12-01 00:02:15|  2020-12-01 00:13:09|              1|         4.16|         1|                 N|         238|          48|           1|       14.0|  0.5|    0.5|       1.0|         0.0|                  0.3|        18.8|                 2.5|\n",
      "|       2| 2020-12-01 00:37:42|  2020-12-01 00:45:11|              1|         2.22|         1|                 N|         238|          41|           2|        8.5|  0.5|    0.5|       0.0|         0.0|                  0.3|         9.8|                 0.0|\n",
      "|       1| 2020-12-01 00:27:47|  2020-12-01 00:45:40|              0|          8.4|         1|                 N|         138|         137|           1|       25.0|  3.0|    0.5|       6.0|        6.12|                  0.3|       40.92|                 2.5|\n",
      "|       2| 2020-12-01 00:40:47|  2020-12-01 00:57:03|              1|         6.44|         1|                 N|         132|         191|           1|       19.5|  0.5|    0.5|      4.16|         0.0|                  0.3|       24.96|                 0.0|\n",
      "|       2| 2020-12-01 00:01:42|  2020-12-01 00:06:06|              1|         0.99|         1|                 N|         234|         137|           1|        5.5|  0.5|    0.5|      1.86|         0.0|                  0.3|       11.16|                 2.5|\n",
      "|       2| 2020-12-01 00:58:24|  2020-12-01 01:36:14|              2|        11.81|         1|                 N|         261|           7|           1|       36.5|  0.5|    0.5|       1.0|         0.0|                  0.3|        41.3|                 2.5|\n",
      "|       1| 2020-12-01 00:08:15|  2020-12-01 00:16:04|              2|          2.7|         1|                 N|         237|         107|           1|        9.5|  3.0|    0.5|      2.65|         0.0|                  0.3|       15.95|                 2.5|\n",
      "|       2| 2020-12-01 00:04:21|  2020-12-01 00:29:00|              1|         6.28|         1|                 N|          41|          68|           2|       23.0|  0.5|    0.5|       0.0|         0.0|                  0.3|        26.8|                 2.5|\n",
      "|       2| 2020-12-01 00:22:03|  2020-12-01 00:52:55|              1|        18.93|         2|                 N|         132|         211|           1|       52.0|  0.0|    0.5|     12.28|        6.12|                  0.3|        73.7|                 2.5|\n",
      "|       2| 2020-12-01 00:46:31|  2020-12-01 00:53:49|              5|         2.75|         1|                 N|         249|         230|           2|        9.5|  0.5|    0.5|       0.0|         0.0|                  0.3|        13.3|                 2.5|\n",
      "|       2| 2020-12-01 00:51:30|  2020-12-01 01:26:52|              2|         21.8|         2|                 N|         132|          13|           1|       52.0|  0.0|    0.5|     11.06|         0.0|                  0.3|       66.36|                 2.5|\n",
      "|       1| 2020-12-01 00:14:34|  2020-12-01 00:31:04|              1|          7.6|         1|                 N|         140|          65|           1|       23.0|  3.0|    0.5|      5.35|         0.0|                  0.3|       32.15|                 2.5|\n",
      "|       1| 2020-12-01 00:11:02|  2020-12-01 00:17:34|              1|          1.7|         1|                 N|         239|         141|           2|        7.5|  3.0|    0.5|       0.0|         0.0|                  0.3|        11.3|                 2.5|\n",
      "|       1| 2020-12-01 00:54:55|  2020-12-01 00:57:09|              1|          0.5|         1|                 N|         263|         141|           2|        4.0|  3.0|    0.5|       0.0|         0.0|                  0.3|         7.8|                 2.5|\n",
      "|       1| 2020-12-01 00:11:22|  2020-12-01 00:40:36|              1|         21.0|         2|                 N|         132|         231|           1|       52.0|  2.5|    0.5|     16.55|         0.0|                  0.3|       71.85|                 2.5|\n",
      "|       2| 2020-11-30 23:59:22|  2020-12-01 00:05:51|              3|         0.81|         1|                 N|          50|          48|           1|        5.5|  0.5|    0.5|      1.88|         0.0|                  0.3|       11.18|                 2.5|\n",
      "|       2| 2020-12-01 00:24:34|  2020-12-01 00:29:59|              4|         1.45|         1|                 N|          48|         162|           1|        6.5|  0.5|    0.5|      2.06|         0.0|                  0.3|       12.36|                 2.5|\n",
      "+--------+--------------------+---------------------+---------------+-------------+----------+------------------+------------+------------+------------+-----------+-----+-------+----------+------------+---------------------+------------+--------------------+\n",
      "only showing top 20 rows\n",
      "\n"
     ]
    }
   ],
   "source": [
    "df.show()"
   ]
  },
  {
   "cell_type": "code",
   "execution_count": 115,
   "metadata": {},
   "outputs": [
    {
     "data": {
      "text/plain": [
       "[('VendorID', 'int'),\n",
       " ('tpep_pickup_datetime', 'timestamp'),\n",
       " ('tpep_dropoff_datetime', 'timestamp'),\n",
       " ('passenger_count', 'int'),\n",
       " ('trip_distance', 'float'),\n",
       " ('RatecodeID', 'int'),\n",
       " ('store_and_fwd_flag', 'string'),\n",
       " ('PULocationID', 'int'),\n",
       " ('DOLocationID', 'int'),\n",
       " ('payment_type', 'int'),\n",
       " ('fare_amount', 'float'),\n",
       " ('extra', 'float'),\n",
       " ('mta_tax', 'float'),\n",
       " ('tip_amount', 'float'),\n",
       " ('tolls_amount', 'float'),\n",
       " ('improvement_surcharge', 'float'),\n",
       " ('total_amount', 'float'),\n",
       " ('congestion_surcharge', 'float')]"
      ]
     },
     "execution_count": 115,
     "metadata": {},
     "output_type": "execute_result"
    }
   ],
   "source": [
    "df.dtypes"
   ]
  },
  {
   "cell_type": "code",
   "execution_count": 116,
   "metadata": {},
   "outputs": [
    {
     "data": {
      "text/plain": [
       "1461897"
      ]
     },
     "execution_count": 116,
     "metadata": {},
     "output_type": "execute_result"
    }
   ],
   "source": [
    "df.count()"
   ]
  },
  {
   "cell_type": "markdown",
   "metadata": {},
   "source": [
    "#### Data Cleansing "
   ]
  },
  {
   "cell_type": "markdown",
   "metadata": {},
   "source": [
    "1.Trip distance is less than or equal to zero \n",
    "2.Total amount i.e. fare is less than or equal to zero\n",
    "3.Trip duration is less than or equal to zero Or alternatively if the Drop Off timestamp is less than the Pick Up timestamp\n"
   ]
  },
  {
   "cell_type": "code",
   "execution_count": 117,
   "metadata": {},
   "outputs": [],
   "source": [
    "df = spark.read.option('header',True).option('mode','DROPMALFORMED').csv('/user/tswde5bdhuser035/taxi_trip_data/Yellow_tripdata/yellow_tripdata_2020-12.csv')"
   ]
  },
  {
   "cell_type": "code",
   "execution_count": 118,
   "metadata": {},
   "outputs": [
    {
     "data": {
      "text/plain": [
       "1461897"
      ]
     },
     "execution_count": 118,
     "metadata": {},
     "output_type": "execute_result"
    }
   ],
   "source": [
    "df.count()"
   ]
  },
  {
   "cell_type": "code",
   "execution_count": 119,
   "metadata": {},
   "outputs": [
    {
     "data": {
      "text/plain": [
       "DataFrame[VendorID: string, tpep_pickup_datetime: string, tpep_dropoff_datetime: string, passenger_count: string, trip_distance: string, RatecodeID: string, store_and_fwd_flag: string, PULocationID: string, DOLocationID: string, payment_type: string, fare_amount: string, extra: string, mta_tax: string, tip_amount: string, tolls_amount: string, improvement_surcharge: string, total_amount: string, congestion_surcharge: string]"
      ]
     },
     "execution_count": 119,
     "metadata": {},
     "output_type": "execute_result"
    }
   ],
   "source": [
    "df.fillna(value=0)"
   ]
  },
  {
   "cell_type": "code",
   "execution_count": 120,
   "metadata": {},
   "outputs": [
    {
     "data": {
      "text/plain": [
       "1461897"
      ]
     },
     "execution_count": 120,
     "metadata": {},
     "output_type": "execute_result"
    }
   ],
   "source": [
    "df.count()"
   ]
  },
  {
   "cell_type": "code",
   "execution_count": 121,
   "metadata": {},
   "outputs": [
    {
     "data": {
      "text/plain": [
       "1095708"
      ]
     },
     "execution_count": 121,
     "metadata": {},
     "output_type": "execute_result"
    }
   ],
   "source": [
    "df_filtered = df.filter(df.trip_distance > 0)\n",
    "df_filtered.count()"
   ]
  },
  {
   "cell_type": "code",
   "execution_count": 122,
   "metadata": {},
   "outputs": [
    {
     "data": {
      "text/plain": [
       "1092613"
      ]
     },
     "execution_count": 122,
     "metadata": {},
     "output_type": "execute_result"
    }
   ],
   "source": [
    "df_filtered2 = df_filtered.filter(df_filtered.total_amount > 0)\n",
    "df_filtered2.count()"
   ]
  },
  {
   "cell_type": "code",
   "execution_count": 123,
   "metadata": {},
   "outputs": [
    {
     "name": "stdout",
     "output_type": "stream",
     "text": [
      "+--------+--------------------+---------------------+---------------+-------------+----------+------------------+------------+------------+------------+-----------+-----+-------+----------+------------+---------------------+------------+--------------------+\n",
      "|VendorID|tpep_pickup_datetime|tpep_dropoff_datetime|passenger_count|trip_distance|RatecodeID|store_and_fwd_flag|PULocationID|DOLocationID|payment_type|fare_amount|extra|mta_tax|tip_amount|tolls_amount|improvement_surcharge|total_amount|congestion_surcharge|\n",
      "+--------+--------------------+---------------------+---------------+-------------+----------+------------------+------------+------------+------------+-----------+-----+-------+----------+------------+---------------------+------------+--------------------+\n",
      "|       1| 2020-12-01 00:07:13|  2020-12-01 00:18:12|              1|         7.60|         1|                 N|         138|         263|           1|       21.5|    3|    0.5|       2.5|        6.12|                  0.3|       33.92|                 2.5|\n",
      "|       1| 2020-12-01 00:41:19|  2020-12-01 00:49:45|              1|         1.60|         1|                 N|         140|         263|           1|          8|    3|    0.5|      2.95|           0|                  0.3|       14.75|                 2.5|\n",
      "|       2| 2020-12-01 00:33:40|  2020-12-01 01:00:35|              1|        16.74|         2|                 N|         132|         164|           1|         52|    0|    0.5|       2.5|        6.12|                  0.3|       63.92|                 2.5|\n",
      "|       2| 2020-12-01 00:02:15|  2020-12-01 00:13:09|              1|         4.16|         1|                 N|         238|          48|           1|         14|  0.5|    0.5|         1|           0|                  0.3|        18.8|                 2.5|\n",
      "|       2| 2020-12-01 00:37:42|  2020-12-01 00:45:11|              1|         2.22|         1|                 N|         238|          41|           2|        8.5|  0.5|    0.5|         0|           0|                  0.3|         9.8|                   0|\n",
      "|       1| 2020-12-01 00:27:47|  2020-12-01 00:45:40|              0|         8.40|         1|                 N|         138|         137|           1|         25|    3|    0.5|         6|        6.12|                  0.3|       40.92|                 2.5|\n",
      "|       2| 2020-12-01 00:40:47|  2020-12-01 00:57:03|              1|         6.44|         1|                 N|         132|         191|           1|       19.5|  0.5|    0.5|      4.16|           0|                  0.3|       24.96|                   0|\n",
      "|       2| 2020-12-01 00:58:24|  2020-12-01 01:36:14|              2|        11.81|         1|                 N|         261|           7|           1|       36.5|  0.5|    0.5|         1|           0|                  0.3|        41.3|                 2.5|\n",
      "|       1| 2020-12-01 00:08:15|  2020-12-01 00:16:04|              2|         2.70|         1|                 N|         237|         107|           1|        9.5|    3|    0.5|      2.65|           0|                  0.3|       15.95|                 2.5|\n",
      "|       2| 2020-12-01 00:04:21|  2020-12-01 00:29:00|              1|         6.28|         1|                 N|          41|          68|           2|         23|  0.5|    0.5|         0|           0|                  0.3|        26.8|                 2.5|\n",
      "|       2| 2020-12-01 00:22:03|  2020-12-01 00:52:55|              1|        18.93|         2|                 N|         132|         211|           1|         52|    0|    0.5|     12.28|        6.12|                  0.3|        73.7|                 2.5|\n",
      "|       2| 2020-12-01 00:46:31|  2020-12-01 00:53:49|              5|         2.75|         1|                 N|         249|         230|           2|        9.5|  0.5|    0.5|         0|           0|                  0.3|        13.3|                 2.5|\n",
      "|       2| 2020-12-01 00:51:30|  2020-12-01 01:26:52|              2|        21.80|         2|                 N|         132|          13|           1|         52|    0|    0.5|     11.06|           0|                  0.3|       66.36|                 2.5|\n",
      "|       1| 2020-12-01 00:14:34|  2020-12-01 00:31:04|              1|         7.60|         1|                 N|         140|          65|           1|         23|    3|    0.5|      5.35|           0|                  0.3|       32.15|                 2.5|\n",
      "|       1| 2020-12-01 00:11:02|  2020-12-01 00:17:34|              1|         1.70|         1|                 N|         239|         141|           2|        7.5|    3|    0.5|         0|           0|                  0.3|        11.3|                 2.5|\n",
      "|       1| 2020-12-01 00:11:22|  2020-12-01 00:40:36|              1|        21.00|         2|                 N|         132|         231|           1|         52|  2.5|    0.5|     16.55|           0|                  0.3|       71.85|                 2.5|\n",
      "|       2| 2020-12-01 00:24:34|  2020-12-01 00:29:59|              4|         1.45|         1|                 N|          48|         162|           1|        6.5|  0.5|    0.5|      2.06|           0|                  0.3|       12.36|                 2.5|\n",
      "|       2| 2020-12-01 00:20:44|  2020-12-01 00:32:48|              5|         3.78|         1|                 N|         140|          42|           2|       13.5|  0.5|    0.5|         0|           0|                  0.3|        17.3|                 2.5|\n",
      "|       2| 2020-12-01 00:42:13|  2020-12-01 00:46:05|              1|         1.12|         1|                 N|         138|         129|           2|        5.5|  0.5|    0.5|         0|           0|                  0.3|         6.8|                   0|\n",
      "|       2| 2020-12-01 00:02:45|  2020-12-01 00:11:35|              1|         1.63|         1|                 N|         137|          48|           1|          8|  0.5|    0.5|      2.36|           0|                  0.3|       14.16|                 2.5|\n",
      "+--------+--------------------+---------------------+---------------+-------------+----------+------------------+------------+------------+------------+-----------+-----+-------+----------+------------+---------------------+------------+--------------------+\n",
      "only showing top 20 rows\n",
      "\n"
     ]
    }
   ],
   "source": [
    "df_filtered3 = df_filtered2.filter(df_filtered2.tpep_dropoff_datetime > df_filtered2.tpep_pickup_datetime)\n",
    "df_filtered3.show()"
   ]
  },
  {
   "cell_type": "code",
   "execution_count": 124,
   "metadata": {},
   "outputs": [
    {
     "data": {
      "text/plain": [
       "1087470"
      ]
     },
     "execution_count": 124,
     "metadata": {},
     "output_type": "execute_result"
    }
   ],
   "source": [
    "df_filtered3.count()"
   ]
  },
  {
   "cell_type": "markdown",
   "metadata": {},
   "source": [
    "#### Data Augmentation : adding a few derived fields "
   ]
  },
  {
   "cell_type": "markdown",
   "metadata": {},
   "source": [
    "1.Extract the day of week (i.e. Sunday, Monday etc.) from the pick up timestamp and add it as a column\n",
    "It helps to add the ordinal number such as 1 for Sunday, 2 for Monday and so on for sorting the data for display"
   ]
  },
  {
   "cell_type": "code",
   "execution_count": 125,
   "metadata": {},
   "outputs": [
    {
     "name": "stdout",
     "output_type": "stream",
     "text": [
      "+--------+--------------------+---------------------+---------------+-------------+----------+------------------+------------+------------+------------+-----------+-----+-------+----------+------------+---------------------+------------+--------------------+---------------+------------+\n",
      "|VendorID|tpep_pickup_datetime|tpep_dropoff_datetime|passenger_count|trip_distance|RatecodeID|store_and_fwd_flag|PULocationID|DOLocationID|payment_type|fare_amount|extra|mta_tax|tip_amount|tolls_amount|improvement_surcharge|total_amount|congestion_surcharge|week_day_number|week_day_abb|\n",
      "+--------+--------------------+---------------------+---------------+-------------+----------+------------------+------------+------------+------------+-----------+-----+-------+----------+------------+---------------------+------------+--------------------+---------------+------------+\n",
      "|1       |2020-12-01 00:07:13 |2020-12-01 00:18:12  |1              |7.60         |1         |N                 |138         |263         |1           |21.5       |3    |0.5    |2.5       |6.12        |0.3                  |33.92       |2.5                 |2              |Tue         |\n",
      "|1       |2020-12-01 00:41:19 |2020-12-01 00:49:45  |1              |1.60         |1         |N                 |140         |263         |1           |8          |3    |0.5    |2.95      |0           |0.3                  |14.75       |2.5                 |2              |Tue         |\n",
      "|2       |2020-12-01 00:33:40 |2020-12-01 01:00:35  |1              |16.74        |2         |N                 |132         |164         |1           |52         |0    |0.5    |2.5       |6.12        |0.3                  |63.92       |2.5                 |2              |Tue         |\n",
      "|2       |2020-12-01 00:02:15 |2020-12-01 00:13:09  |1              |4.16         |1         |N                 |238         |48          |1           |14         |0.5  |0.5    |1         |0           |0.3                  |18.8        |2.5                 |2              |Tue         |\n",
      "|2       |2020-12-01 00:37:42 |2020-12-01 00:45:11  |1              |2.22         |1         |N                 |238         |41          |2           |8.5        |0.5  |0.5    |0         |0           |0.3                  |9.8         |0                   |2              |Tue         |\n",
      "|1       |2020-12-01 00:27:47 |2020-12-01 00:45:40  |0              |8.40         |1         |N                 |138         |137         |1           |25         |3    |0.5    |6         |6.12        |0.3                  |40.92       |2.5                 |2              |Tue         |\n",
      "|2       |2020-12-01 00:40:47 |2020-12-01 00:57:03  |1              |6.44         |1         |N                 |132         |191         |1           |19.5       |0.5  |0.5    |4.16      |0           |0.3                  |24.96       |0                   |2              |Tue         |\n",
      "|2       |2020-12-01 00:58:24 |2020-12-01 01:36:14  |2              |11.81        |1         |N                 |261         |7           |1           |36.5       |0.5  |0.5    |1         |0           |0.3                  |41.3        |2.5                 |2              |Tue         |\n",
      "|1       |2020-12-01 00:08:15 |2020-12-01 00:16:04  |2              |2.70         |1         |N                 |237         |107         |1           |9.5        |3    |0.5    |2.65      |0           |0.3                  |15.95       |2.5                 |2              |Tue         |\n",
      "|2       |2020-12-01 00:04:21 |2020-12-01 00:29:00  |1              |6.28         |1         |N                 |41          |68          |2           |23         |0.5  |0.5    |0         |0           |0.3                  |26.8        |2.5                 |2              |Tue         |\n",
      "|2       |2020-12-01 00:22:03 |2020-12-01 00:52:55  |1              |18.93        |2         |N                 |132         |211         |1           |52         |0    |0.5    |12.28     |6.12        |0.3                  |73.7        |2.5                 |2              |Tue         |\n",
      "|2       |2020-12-01 00:46:31 |2020-12-01 00:53:49  |5              |2.75         |1         |N                 |249         |230         |2           |9.5        |0.5  |0.5    |0         |0           |0.3                  |13.3        |2.5                 |2              |Tue         |\n",
      "|2       |2020-12-01 00:51:30 |2020-12-01 01:26:52  |2              |21.80        |2         |N                 |132         |13          |1           |52         |0    |0.5    |11.06     |0           |0.3                  |66.36       |2.5                 |2              |Tue         |\n",
      "|1       |2020-12-01 00:14:34 |2020-12-01 00:31:04  |1              |7.60         |1         |N                 |140         |65          |1           |23         |3    |0.5    |5.35      |0           |0.3                  |32.15       |2.5                 |2              |Tue         |\n",
      "|1       |2020-12-01 00:11:02 |2020-12-01 00:17:34  |1              |1.70         |1         |N                 |239         |141         |2           |7.5        |3    |0.5    |0         |0           |0.3                  |11.3        |2.5                 |2              |Tue         |\n",
      "|1       |2020-12-01 00:11:22 |2020-12-01 00:40:36  |1              |21.00        |2         |N                 |132         |231         |1           |52         |2.5  |0.5    |16.55     |0           |0.3                  |71.85       |2.5                 |2              |Tue         |\n",
      "|2       |2020-12-01 00:24:34 |2020-12-01 00:29:59  |4              |1.45         |1         |N                 |48          |162         |1           |6.5        |0.5  |0.5    |2.06      |0           |0.3                  |12.36       |2.5                 |2              |Tue         |\n",
      "|2       |2020-12-01 00:20:44 |2020-12-01 00:32:48  |5              |3.78         |1         |N                 |140         |42          |2           |13.5       |0.5  |0.5    |0         |0           |0.3                  |17.3        |2.5                 |2              |Tue         |\n",
      "|2       |2020-12-01 00:42:13 |2020-12-01 00:46:05  |1              |1.12         |1         |N                 |138         |129         |2           |5.5        |0.5  |0.5    |0         |0           |0.3                  |6.8         |0                   |2              |Tue         |\n",
      "|2       |2020-12-01 00:02:45 |2020-12-01 00:11:35  |1              |1.63         |1         |N                 |137         |48          |1           |8          |0.5  |0.5    |2.36      |0           |0.3                  |14.16       |2.5                 |2              |Tue         |\n",
      "+--------+--------------------+---------------------+---------------+-------------+----------+------------------+------------+------------+------------+-----------+-----+-------+----------+------------+---------------------+------------+--------------------+---------------+------------+\n",
      "only showing top 20 rows\n",
      "\n"
     ]
    }
   ],
   "source": [
    "from pyspark.sql.functions import *\n",
    "df_aug1=df_filtered3.withColumn(\"tpep_pickup_datetime\",to_timestamp(col(\"tpep_pickup_datetime\"))).withColumn(\"week_day_number\", date_format(col(\"tpep_pickup_datetime\"), \"u\")).withColumn(\"week_day_abb\", date_format(col(\"tpep_pickup_datetime\"), \"E\"))\n",
    "df_aug1.show(truncate=False)"
   ]
  },
  {
   "cell_type": "markdown",
   "metadata": {},
   "source": [
    "Calculate and add the trip duration in minutes by subtracting the pick up timestamp from the drop off timestamp\n"
   ]
  },
  {
   "cell_type": "code",
   "execution_count": 126,
   "metadata": {},
   "outputs": [
    {
     "name": "stdout",
     "output_type": "stream",
     "text": [
      "+--------+--------------------+---------------------+---------------+-------------+----------+------------------+------------+------------+------------+-----------+-----+-------+----------+------------+---------------------+------------+--------------------+---------------+------------+-------------+\n",
      "|VendorID|tpep_pickup_datetime|tpep_dropoff_datetime|passenger_count|trip_distance|RatecodeID|store_and_fwd_flag|PULocationID|DOLocationID|payment_type|fare_amount|extra|mta_tax|tip_amount|tolls_amount|improvement_surcharge|total_amount|congestion_surcharge|week_day_number|week_day_abb|DiffInMinutes|\n",
      "+--------+--------------------+---------------------+---------------+-------------+----------+------------------+------------+------------+------------+-----------+-----+-------+----------+------------+---------------------+------------+--------------------+---------------+------------+-------------+\n",
      "|1       |2020-12-01 00:07:13 |2020-12-01 00:18:12  |1              |7.60         |1         |N                 |138         |263         |1           |21.5       |3    |0.5    |2.5       |6.12        |0.3                  |33.92       |2.5                 |2              |Tue         |11.0         |\n",
      "|1       |2020-12-01 00:41:19 |2020-12-01 00:49:45  |1              |1.60         |1         |N                 |140         |263         |1           |8          |3    |0.5    |2.95      |0           |0.3                  |14.75       |2.5                 |2              |Tue         |8.0          |\n",
      "|2       |2020-12-01 00:33:40 |2020-12-01 01:00:35  |1              |16.74        |2         |N                 |132         |164         |1           |52         |0    |0.5    |2.5       |6.12        |0.3                  |63.92       |2.5                 |2              |Tue         |27.0         |\n",
      "|2       |2020-12-01 00:02:15 |2020-12-01 00:13:09  |1              |4.16         |1         |N                 |238         |48          |1           |14         |0.5  |0.5    |1         |0           |0.3                  |18.8        |2.5                 |2              |Tue         |11.0         |\n",
      "|2       |2020-12-01 00:37:42 |2020-12-01 00:45:11  |1              |2.22         |1         |N                 |238         |41          |2           |8.5        |0.5  |0.5    |0         |0           |0.3                  |9.8         |0                   |2              |Tue         |7.0          |\n",
      "|1       |2020-12-01 00:27:47 |2020-12-01 00:45:40  |0              |8.40         |1         |N                 |138         |137         |1           |25         |3    |0.5    |6         |6.12        |0.3                  |40.92       |2.5                 |2              |Tue         |18.0         |\n",
      "|2       |2020-12-01 00:40:47 |2020-12-01 00:57:03  |1              |6.44         |1         |N                 |132         |191         |1           |19.5       |0.5  |0.5    |4.16      |0           |0.3                  |24.96       |0                   |2              |Tue         |16.0         |\n",
      "|2       |2020-12-01 00:58:24 |2020-12-01 01:36:14  |2              |11.81        |1         |N                 |261         |7           |1           |36.5       |0.5  |0.5    |1         |0           |0.3                  |41.3        |2.5                 |2              |Tue         |38.0         |\n",
      "|1       |2020-12-01 00:08:15 |2020-12-01 00:16:04  |2              |2.70         |1         |N                 |237         |107         |1           |9.5        |3    |0.5    |2.65      |0           |0.3                  |15.95       |2.5                 |2              |Tue         |8.0          |\n",
      "|2       |2020-12-01 00:04:21 |2020-12-01 00:29:00  |1              |6.28         |1         |N                 |41          |68          |2           |23         |0.5  |0.5    |0         |0           |0.3                  |26.8        |2.5                 |2              |Tue         |25.0         |\n",
      "|2       |2020-12-01 00:22:03 |2020-12-01 00:52:55  |1              |18.93        |2         |N                 |132         |211         |1           |52         |0    |0.5    |12.28     |6.12        |0.3                  |73.7        |2.5                 |2              |Tue         |31.0         |\n",
      "|2       |2020-12-01 00:46:31 |2020-12-01 00:53:49  |5              |2.75         |1         |N                 |249         |230         |2           |9.5        |0.5  |0.5    |0         |0           |0.3                  |13.3        |2.5                 |2              |Tue         |7.0          |\n",
      "|2       |2020-12-01 00:51:30 |2020-12-01 01:26:52  |2              |21.80        |2         |N                 |132         |13          |1           |52         |0    |0.5    |11.06     |0           |0.3                  |66.36       |2.5                 |2              |Tue         |35.0         |\n",
      "|1       |2020-12-01 00:14:34 |2020-12-01 00:31:04  |1              |7.60         |1         |N                 |140         |65          |1           |23         |3    |0.5    |5.35      |0           |0.3                  |32.15       |2.5                 |2              |Tue         |17.0         |\n",
      "|1       |2020-12-01 00:11:02 |2020-12-01 00:17:34  |1              |1.70         |1         |N                 |239         |141         |2           |7.5        |3    |0.5    |0         |0           |0.3                  |11.3        |2.5                 |2              |Tue         |7.0          |\n",
      "|1       |2020-12-01 00:11:22 |2020-12-01 00:40:36  |1              |21.00        |2         |N                 |132         |231         |1           |52         |2.5  |0.5    |16.55     |0           |0.3                  |71.85       |2.5                 |2              |Tue         |29.0         |\n",
      "|2       |2020-12-01 00:24:34 |2020-12-01 00:29:59  |4              |1.45         |1         |N                 |48          |162         |1           |6.5        |0.5  |0.5    |2.06      |0           |0.3                  |12.36       |2.5                 |2              |Tue         |5.0          |\n",
      "|2       |2020-12-01 00:20:44 |2020-12-01 00:32:48  |5              |3.78         |1         |N                 |140         |42          |2           |13.5       |0.5  |0.5    |0         |0           |0.3                  |17.3        |2.5                 |2              |Tue         |12.0         |\n",
      "|2       |2020-12-01 00:42:13 |2020-12-01 00:46:05  |1              |1.12         |1         |N                 |138         |129         |2           |5.5        |0.5  |0.5    |0         |0           |0.3                  |6.8         |0                   |2              |Tue         |4.0          |\n",
      "|2       |2020-12-01 00:02:45 |2020-12-01 00:11:35  |1              |1.63         |1         |N                 |137         |48          |1           |8          |0.5  |0.5    |2.36      |0           |0.3                  |14.16       |2.5                 |2              |Tue         |9.0          |\n",
      "+--------+--------------------+---------------------+---------------+-------------+----------+------------------+------------+------------+------------+-----------+-----+-------+----------+------------+---------------------+------------+--------------------+---------------+------------+-------------+\n",
      "only showing top 20 rows\n",
      "\n"
     ]
    }
   ],
   "source": [
    "df_aug2=df_aug1.withColumn('DiffInMinutes',round((unix_timestamp(\"tpep_dropoff_datetime\") - unix_timestamp('tpep_pickup_datetime'))/60))\n",
    "  \n",
    "df_aug2.show(truncate=False)"
   ]
  },
  {
   "cell_type": "markdown",
   "metadata": {},
   "source": [
    "Pick up hour of the day can be extracted and added to the fields"
   ]
  },
  {
   "cell_type": "code",
   "execution_count": 127,
   "metadata": {},
   "outputs": [
    {
     "name": "stdout",
     "output_type": "stream",
     "text": [
      "+--------+--------------------+---------------------+---------------+-------------+----------+------------------+------------+------------+------------+-----------+-----+-------+----------+------------+---------------------+------------+--------------------+---------------+------------+-------------+----------+\n",
      "|VendorID|tpep_pickup_datetime|tpep_dropoff_datetime|passenger_count|trip_distance|RatecodeID|store_and_fwd_flag|PULocationID|DOLocationID|payment_type|fare_amount|extra|mta_tax|tip_amount|tolls_amount|improvement_surcharge|total_amount|congestion_surcharge|week_day_number|week_day_abb|DiffInMinutes|PickUpHour|\n",
      "+--------+--------------------+---------------------+---------------+-------------+----------+------------------+------------+------------+------------+-----------+-----+-------+----------+------------+---------------------+------------+--------------------+---------------+------------+-------------+----------+\n",
      "|1       |2020-12-01 00:07:13 |2020-12-01 00:18:12  |1              |7.60         |1         |N                 |138         |263         |1           |21.5       |3    |0.5    |2.5       |6.12        |0.3                  |33.92       |2.5                 |2              |Tue         |11.0         |0         |\n",
      "|1       |2020-12-01 00:41:19 |2020-12-01 00:49:45  |1              |1.60         |1         |N                 |140         |263         |1           |8          |3    |0.5    |2.95      |0           |0.3                  |14.75       |2.5                 |2              |Tue         |8.0          |0         |\n",
      "|2       |2020-12-01 00:33:40 |2020-12-01 01:00:35  |1              |16.74        |2         |N                 |132         |164         |1           |52         |0    |0.5    |2.5       |6.12        |0.3                  |63.92       |2.5                 |2              |Tue         |27.0         |0         |\n",
      "|2       |2020-12-01 00:02:15 |2020-12-01 00:13:09  |1              |4.16         |1         |N                 |238         |48          |1           |14         |0.5  |0.5    |1         |0           |0.3                  |18.8        |2.5                 |2              |Tue         |11.0         |0         |\n",
      "|2       |2020-12-01 00:37:42 |2020-12-01 00:45:11  |1              |2.22         |1         |N                 |238         |41          |2           |8.5        |0.5  |0.5    |0         |0           |0.3                  |9.8         |0                   |2              |Tue         |7.0          |0         |\n",
      "|1       |2020-12-01 00:27:47 |2020-12-01 00:45:40  |0              |8.40         |1         |N                 |138         |137         |1           |25         |3    |0.5    |6         |6.12        |0.3                  |40.92       |2.5                 |2              |Tue         |18.0         |0         |\n",
      "|2       |2020-12-01 00:40:47 |2020-12-01 00:57:03  |1              |6.44         |1         |N                 |132         |191         |1           |19.5       |0.5  |0.5    |4.16      |0           |0.3                  |24.96       |0                   |2              |Tue         |16.0         |0         |\n",
      "|2       |2020-12-01 00:58:24 |2020-12-01 01:36:14  |2              |11.81        |1         |N                 |261         |7           |1           |36.5       |0.5  |0.5    |1         |0           |0.3                  |41.3        |2.5                 |2              |Tue         |38.0         |0         |\n",
      "|1       |2020-12-01 00:08:15 |2020-12-01 00:16:04  |2              |2.70         |1         |N                 |237         |107         |1           |9.5        |3    |0.5    |2.65      |0           |0.3                  |15.95       |2.5                 |2              |Tue         |8.0          |0         |\n",
      "|2       |2020-12-01 00:04:21 |2020-12-01 00:29:00  |1              |6.28         |1         |N                 |41          |68          |2           |23         |0.5  |0.5    |0         |0           |0.3                  |26.8        |2.5                 |2              |Tue         |25.0         |0         |\n",
      "|2       |2020-12-01 00:22:03 |2020-12-01 00:52:55  |1              |18.93        |2         |N                 |132         |211         |1           |52         |0    |0.5    |12.28     |6.12        |0.3                  |73.7        |2.5                 |2              |Tue         |31.0         |0         |\n",
      "|2       |2020-12-01 00:46:31 |2020-12-01 00:53:49  |5              |2.75         |1         |N                 |249         |230         |2           |9.5        |0.5  |0.5    |0         |0           |0.3                  |13.3        |2.5                 |2              |Tue         |7.0          |0         |\n",
      "|2       |2020-12-01 00:51:30 |2020-12-01 01:26:52  |2              |21.80        |2         |N                 |132         |13          |1           |52         |0    |0.5    |11.06     |0           |0.3                  |66.36       |2.5                 |2              |Tue         |35.0         |0         |\n",
      "|1       |2020-12-01 00:14:34 |2020-12-01 00:31:04  |1              |7.60         |1         |N                 |140         |65          |1           |23         |3    |0.5    |5.35      |0           |0.3                  |32.15       |2.5                 |2              |Tue         |17.0         |0         |\n",
      "|1       |2020-12-01 00:11:02 |2020-12-01 00:17:34  |1              |1.70         |1         |N                 |239         |141         |2           |7.5        |3    |0.5    |0         |0           |0.3                  |11.3        |2.5                 |2              |Tue         |7.0          |0         |\n",
      "|1       |2020-12-01 00:11:22 |2020-12-01 00:40:36  |1              |21.00        |2         |N                 |132         |231         |1           |52         |2.5  |0.5    |16.55     |0           |0.3                  |71.85       |2.5                 |2              |Tue         |29.0         |0         |\n",
      "|2       |2020-12-01 00:24:34 |2020-12-01 00:29:59  |4              |1.45         |1         |N                 |48          |162         |1           |6.5        |0.5  |0.5    |2.06      |0           |0.3                  |12.36       |2.5                 |2              |Tue         |5.0          |0         |\n",
      "|2       |2020-12-01 00:20:44 |2020-12-01 00:32:48  |5              |3.78         |1         |N                 |140         |42          |2           |13.5       |0.5  |0.5    |0         |0           |0.3                  |17.3        |2.5                 |2              |Tue         |12.0         |0         |\n",
      "|2       |2020-12-01 00:42:13 |2020-12-01 00:46:05  |1              |1.12         |1         |N                 |138         |129         |2           |5.5        |0.5  |0.5    |0         |0           |0.3                  |6.8         |0                   |2              |Tue         |4.0          |0         |\n",
      "|2       |2020-12-01 00:02:45 |2020-12-01 00:11:35  |1              |1.63         |1         |N                 |137         |48          |1           |8          |0.5  |0.5    |2.36      |0           |0.3                  |14.16       |2.5                 |2              |Tue         |9.0          |0         |\n",
      "+--------+--------------------+---------------------+---------------+-------------+----------+------------------+------------+------------+------------+-----------+-----+-------+----------+------------+---------------------+------------+--------------------+---------------+------------+-------------+----------+\n",
      "only showing top 20 rows\n",
      "\n"
     ]
    }
   ],
   "source": [
    "df_aug3=df_aug2.withColumn('PickUpHour',hour(col(\"tpep_pickup_datetime\")))\n",
    "df_aug3.show(truncate=False)"
   ]
  },
  {
   "cell_type": "markdown",
   "metadata": {},
   "source": [
    "Look up the Taxi Zone data and add the corresponding Zone names of Pick Up Location Id and Drop Off Location Id\n"
   ]
  },
  {
   "cell_type": "code",
   "execution_count": 128,
   "metadata": {},
   "outputs": [],
   "source": [
    "Schema_Taxi_Zone=StructType([\n",
    "    StructField('LocationID',IntegerType(),nullable=True),\n",
    "    StructField('Borough',StringType(),nullable=True),\n",
    "    StructField('Zone',StringType(),nullable=True),\n",
    "    StructField('service_zone',StringType(),nullable=True),\n",
    "]\n",
    ")"
   ]
  },
  {
   "cell_type": "code",
   "execution_count": 129,
   "metadata": {},
   "outputs": [],
   "source": [
    "df_TZ = spark.read.option('header',True).schema(Schema_Taxi_Zone).csv('/user/tswde5bdhuser035/taxi_trip_data/Taxi_zone/taxi+_zone_lookup.csv')"
   ]
  },
  {
   "cell_type": "code",
   "execution_count": 130,
   "metadata": {},
   "outputs": [
    {
     "name": "stdout",
     "output_type": "stream",
     "text": [
      "+--------+--------------------+---------------------+---------------+-------------+----------+------------------+------------+------------+------------+-----------+-----+-------+----------+------------+---------------------+------------+--------------------+---------------+------------+-------------+----------+---------------------+\n",
      "|VendorID|tpep_pickup_datetime|tpep_dropoff_datetime|passenger_count|trip_distance|RatecodeID|store_and_fwd_flag|PULocationID|DOLocationID|payment_type|fare_amount|extra|mta_tax|tip_amount|tolls_amount|improvement_surcharge|total_amount|congestion_surcharge|week_day_number|week_day_abb|DiffInMinutes|PickUpHour|PickUpZone           |\n",
      "+--------+--------------------+---------------------+---------------+-------------+----------+------------------+------------+------------+------------+-----------+-----+-------+----------+------------+---------------------+------------+--------------------+---------------+------------+-------------+----------+---------------------+\n",
      "|1       |2020-12-01 00:07:13 |2020-12-01 00:18:12  |1              |7.60         |1         |N                 |138         |263         |1           |21.5       |3    |0.5    |2.5       |6.12        |0.3                  |33.92       |2.5                 |2              |Tue         |11.0         |0         |LaGuardia Airport    |\n",
      "|1       |2020-12-01 00:41:19 |2020-12-01 00:49:45  |1              |1.60         |1         |N                 |140         |263         |1           |8          |3    |0.5    |2.95      |0           |0.3                  |14.75       |2.5                 |2              |Tue         |8.0          |0         |Lenox Hill East      |\n",
      "|2       |2020-12-01 00:33:40 |2020-12-01 01:00:35  |1              |16.74        |2         |N                 |132         |164         |1           |52         |0    |0.5    |2.5       |6.12        |0.3                  |63.92       |2.5                 |2              |Tue         |27.0         |0         |JFK Airport          |\n",
      "|2       |2020-12-01 00:02:15 |2020-12-01 00:13:09  |1              |4.16         |1         |N                 |238         |48          |1           |14         |0.5  |0.5    |1         |0           |0.3                  |18.8        |2.5                 |2              |Tue         |11.0         |0         |Upper West Side North|\n",
      "|2       |2020-12-01 00:37:42 |2020-12-01 00:45:11  |1              |2.22         |1         |N                 |238         |41          |2           |8.5        |0.5  |0.5    |0         |0           |0.3                  |9.8         |0                   |2              |Tue         |7.0          |0         |Upper West Side North|\n",
      "|1       |2020-12-01 00:27:47 |2020-12-01 00:45:40  |0              |8.40         |1         |N                 |138         |137         |1           |25         |3    |0.5    |6         |6.12        |0.3                  |40.92       |2.5                 |2              |Tue         |18.0         |0         |LaGuardia Airport    |\n",
      "|2       |2020-12-01 00:40:47 |2020-12-01 00:57:03  |1              |6.44         |1         |N                 |132         |191         |1           |19.5       |0.5  |0.5    |4.16      |0           |0.3                  |24.96       |0                   |2              |Tue         |16.0         |0         |JFK Airport          |\n",
      "|2       |2020-12-01 00:58:24 |2020-12-01 01:36:14  |2              |11.81        |1         |N                 |261         |7           |1           |36.5       |0.5  |0.5    |1         |0           |0.3                  |41.3        |2.5                 |2              |Tue         |38.0         |0         |World Trade Center   |\n",
      "|1       |2020-12-01 00:08:15 |2020-12-01 00:16:04  |2              |2.70         |1         |N                 |237         |107         |1           |9.5        |3    |0.5    |2.65      |0           |0.3                  |15.95       |2.5                 |2              |Tue         |8.0          |0         |Upper East Side South|\n",
      "|2       |2020-12-01 00:04:21 |2020-12-01 00:29:00  |1              |6.28         |1         |N                 |41          |68          |2           |23         |0.5  |0.5    |0         |0           |0.3                  |26.8        |2.5                 |2              |Tue         |25.0         |0         |Central Harlem       |\n",
      "|2       |2020-12-01 00:22:03 |2020-12-01 00:52:55  |1              |18.93        |2         |N                 |132         |211         |1           |52         |0    |0.5    |12.28     |6.12        |0.3                  |73.7        |2.5                 |2              |Tue         |31.0         |0         |JFK Airport          |\n",
      "|2       |2020-12-01 00:46:31 |2020-12-01 00:53:49  |5              |2.75         |1         |N                 |249         |230         |2           |9.5        |0.5  |0.5    |0         |0           |0.3                  |13.3        |2.5                 |2              |Tue         |7.0          |0         |West Village         |\n",
      "|2       |2020-12-01 00:51:30 |2020-12-01 01:26:52  |2              |21.80        |2         |N                 |132         |13          |1           |52         |0    |0.5    |11.06     |0           |0.3                  |66.36       |2.5                 |2              |Tue         |35.0         |0         |JFK Airport          |\n",
      "|1       |2020-12-01 00:14:34 |2020-12-01 00:31:04  |1              |7.60         |1         |N                 |140         |65          |1           |23         |3    |0.5    |5.35      |0           |0.3                  |32.15       |2.5                 |2              |Tue         |17.0         |0         |Lenox Hill East      |\n",
      "|1       |2020-12-01 00:11:02 |2020-12-01 00:17:34  |1              |1.70         |1         |N                 |239         |141         |2           |7.5        |3    |0.5    |0         |0           |0.3                  |11.3        |2.5                 |2              |Tue         |7.0          |0         |Upper West Side South|\n",
      "|1       |2020-12-01 00:11:22 |2020-12-01 00:40:36  |1              |21.00        |2         |N                 |132         |231         |1           |52         |2.5  |0.5    |16.55     |0           |0.3                  |71.85       |2.5                 |2              |Tue         |29.0         |0         |JFK Airport          |\n",
      "|2       |2020-12-01 00:24:34 |2020-12-01 00:29:59  |4              |1.45         |1         |N                 |48          |162         |1           |6.5        |0.5  |0.5    |2.06      |0           |0.3                  |12.36       |2.5                 |2              |Tue         |5.0          |0         |Clinton East         |\n",
      "|2       |2020-12-01 00:20:44 |2020-12-01 00:32:48  |5              |3.78         |1         |N                 |140         |42          |2           |13.5       |0.5  |0.5    |0         |0           |0.3                  |17.3        |2.5                 |2              |Tue         |12.0         |0         |Lenox Hill East      |\n",
      "|2       |2020-12-01 00:42:13 |2020-12-01 00:46:05  |1              |1.12         |1         |N                 |138         |129         |2           |5.5        |0.5  |0.5    |0         |0           |0.3                  |6.8         |0                   |2              |Tue         |4.0          |0         |LaGuardia Airport    |\n",
      "|2       |2020-12-01 00:02:45 |2020-12-01 00:11:35  |1              |1.63         |1         |N                 |137         |48          |1           |8          |0.5  |0.5    |2.36      |0           |0.3                  |14.16       |2.5                 |2              |Tue         |9.0          |0         |Kips Bay             |\n",
      "+--------+--------------------+---------------------+---------------+-------------+----------+------------------+------------+------------+------------+-----------+-----+-------+----------+------------+---------------------+------------+--------------------+---------------+------------+-------------+----------+---------------------+\n",
      "only showing top 20 rows\n",
      "\n"
     ]
    }
   ],
   "source": [
    "df_aug4=df_aug3.join(df_TZ,df_aug3.PULocationID == df_TZ.LocationID).drop(\"LocationID\",\"Borough\",\"service_zone\").withColumnRenamed(\"Zone\",\"PickUpZone\")\n",
    "df_aug4.show(truncate=False)"
   ]
  },
  {
   "cell_type": "code",
   "execution_count": 131,
   "metadata": {},
   "outputs": [
    {
     "data": {
      "text/plain": [
       "1087470"
      ]
     },
     "execution_count": 131,
     "metadata": {},
     "output_type": "execute_result"
    }
   ],
   "source": [
    "df_aug4.count()"
   ]
  },
  {
   "cell_type": "code",
   "execution_count": 132,
   "metadata": {},
   "outputs": [
    {
     "name": "stdout",
     "output_type": "stream",
     "text": [
      "+--------+--------------------+---------------------+---------------+-------------+----------+------------------+------------+------------+------------+-----------+-----+-------+----------+------------+---------------------+------------+--------------------+---------------+------------+-------------+----------+---------------------+---------------------------+\n",
      "|VendorID|tpep_pickup_datetime|tpep_dropoff_datetime|passenger_count|trip_distance|RatecodeID|store_and_fwd_flag|PULocationID|DOLocationID|payment_type|fare_amount|extra|mta_tax|tip_amount|tolls_amount|improvement_surcharge|total_amount|congestion_surcharge|week_day_number|week_day_abb|DiffInMinutes|PickUpHour|PickUpZone           |DropOffZone                |\n",
      "+--------+--------------------+---------------------+---------------+-------------+----------+------------------+------------+------------+------------+-----------+-----+-------+----------+------------+---------------------+------------+--------------------+---------------+------------+-------------+----------+---------------------+---------------------------+\n",
      "|1       |2020-12-01 00:07:13 |2020-12-01 00:18:12  |1              |7.60         |1         |N                 |138         |263         |1           |21.5       |3    |0.5    |2.5       |6.12        |0.3                  |33.92       |2.5                 |2              |Tue         |11.0         |0         |LaGuardia Airport    |Yorkville West             |\n",
      "|1       |2020-12-01 00:41:19 |2020-12-01 00:49:45  |1              |1.60         |1         |N                 |140         |263         |1           |8          |3    |0.5    |2.95      |0           |0.3                  |14.75       |2.5                 |2              |Tue         |8.0          |0         |Lenox Hill East      |Yorkville West             |\n",
      "|2       |2020-12-01 00:33:40 |2020-12-01 01:00:35  |1              |16.74        |2         |N                 |132         |164         |1           |52         |0    |0.5    |2.5       |6.12        |0.3                  |63.92       |2.5                 |2              |Tue         |27.0         |0         |JFK Airport          |Midtown South              |\n",
      "|2       |2020-12-01 00:02:15 |2020-12-01 00:13:09  |1              |4.16         |1         |N                 |238         |48          |1           |14         |0.5  |0.5    |1         |0           |0.3                  |18.8        |2.5                 |2              |Tue         |11.0         |0         |Upper West Side North|Clinton East               |\n",
      "|2       |2020-12-01 00:37:42 |2020-12-01 00:45:11  |1              |2.22         |1         |N                 |238         |41          |2           |8.5        |0.5  |0.5    |0         |0           |0.3                  |9.8         |0                   |2              |Tue         |7.0          |0         |Upper West Side North|Central Harlem             |\n",
      "|1       |2020-12-01 00:27:47 |2020-12-01 00:45:40  |0              |8.40         |1         |N                 |138         |137         |1           |25         |3    |0.5    |6         |6.12        |0.3                  |40.92       |2.5                 |2              |Tue         |18.0         |0         |LaGuardia Airport    |Kips Bay                   |\n",
      "|2       |2020-12-01 00:40:47 |2020-12-01 00:57:03  |1              |6.44         |1         |N                 |132         |191         |1           |19.5       |0.5  |0.5    |4.16      |0           |0.3                  |24.96       |0                   |2              |Tue         |16.0         |0         |JFK Airport          |Queens Village             |\n",
      "|2       |2020-12-01 00:58:24 |2020-12-01 01:36:14  |2              |11.81        |1         |N                 |261         |7           |1           |36.5       |0.5  |0.5    |1         |0           |0.3                  |41.3        |2.5                 |2              |Tue         |38.0         |0         |World Trade Center   |Astoria                    |\n",
      "|1       |2020-12-01 00:08:15 |2020-12-01 00:16:04  |2              |2.70         |1         |N                 |237         |107         |1           |9.5        |3    |0.5    |2.65      |0           |0.3                  |15.95       |2.5                 |2              |Tue         |8.0          |0         |Upper East Side South|Gramercy                   |\n",
      "|2       |2020-12-01 00:04:21 |2020-12-01 00:29:00  |1              |6.28         |1         |N                 |41          |68          |2           |23         |0.5  |0.5    |0         |0           |0.3                  |26.8        |2.5                 |2              |Tue         |25.0         |0         |Central Harlem       |East Chelsea               |\n",
      "|2       |2020-12-01 00:22:03 |2020-12-01 00:52:55  |1              |18.93        |2         |N                 |132         |211         |1           |52         |0    |0.5    |12.28     |6.12        |0.3                  |73.7        |2.5                 |2              |Tue         |31.0         |0         |JFK Airport          |SoHo                       |\n",
      "|2       |2020-12-01 00:46:31 |2020-12-01 00:53:49  |5              |2.75         |1         |N                 |249         |230         |2           |9.5        |0.5  |0.5    |0         |0           |0.3                  |13.3        |2.5                 |2              |Tue         |7.0          |0         |West Village         |Times Sq/Theatre District  |\n",
      "|2       |2020-12-01 00:51:30 |2020-12-01 01:26:52  |2              |21.80        |2         |N                 |132         |13          |1           |52         |0    |0.5    |11.06     |0           |0.3                  |66.36       |2.5                 |2              |Tue         |35.0         |0         |JFK Airport          |Battery Park City          |\n",
      "|1       |2020-12-01 00:14:34 |2020-12-01 00:31:04  |1              |7.60         |1         |N                 |140         |65          |1           |23         |3    |0.5    |5.35      |0           |0.3                  |32.15       |2.5                 |2              |Tue         |17.0         |0         |Lenox Hill East      |Downtown Brooklyn/MetroTech|\n",
      "|1       |2020-12-01 00:11:02 |2020-12-01 00:17:34  |1              |1.70         |1         |N                 |239         |141         |2           |7.5        |3    |0.5    |0         |0           |0.3                  |11.3        |2.5                 |2              |Tue         |7.0          |0         |Upper West Side South|Lenox Hill West            |\n",
      "|1       |2020-12-01 00:11:22 |2020-12-01 00:40:36  |1              |21.00        |2         |N                 |132         |231         |1           |52         |2.5  |0.5    |16.55     |0           |0.3                  |71.85       |2.5                 |2              |Tue         |29.0         |0         |JFK Airport          |TriBeCa/Civic Center       |\n",
      "|2       |2020-12-01 00:24:34 |2020-12-01 00:29:59  |4              |1.45         |1         |N                 |48          |162         |1           |6.5        |0.5  |0.5    |2.06      |0           |0.3                  |12.36       |2.5                 |2              |Tue         |5.0          |0         |Clinton East         |Midtown East               |\n",
      "|2       |2020-12-01 00:20:44 |2020-12-01 00:32:48  |5              |3.78         |1         |N                 |140         |42          |2           |13.5       |0.5  |0.5    |0         |0           |0.3                  |17.3        |2.5                 |2              |Tue         |12.0         |0         |Lenox Hill East      |Central Harlem North       |\n",
      "|2       |2020-12-01 00:42:13 |2020-12-01 00:46:05  |1              |1.12         |1         |N                 |138         |129         |2           |5.5        |0.5  |0.5    |0         |0           |0.3                  |6.8         |0                   |2              |Tue         |4.0          |0         |LaGuardia Airport    |Jackson Heights            |\n",
      "|2       |2020-12-01 00:02:45 |2020-12-01 00:11:35  |1              |1.63         |1         |N                 |137         |48          |1           |8          |0.5  |0.5    |2.36      |0           |0.3                  |14.16       |2.5                 |2              |Tue         |9.0          |0         |Kips Bay             |Clinton East               |\n",
      "+--------+--------------------+---------------------+---------------+-------------+----------+------------------+------------+------------+------------+-----------+-----+-------+----------+------------+---------------------+------------+--------------------+---------------+------------+-------------+----------+---------------------+---------------------------+\n",
      "only showing top 20 rows\n",
      "\n"
     ]
    }
   ],
   "source": [
    "df_aug5=df_aug4.join(df_TZ,df_aug4.DOLocationID == df_TZ.LocationID).drop(\"LocationID\",\"Borough\",\"service_zone\").withColumnRenamed(\"Zone\",\"DropOffZone\")\n",
    "df_aug5.show(truncate=False)"
   ]
  },
  {
   "cell_type": "markdown",
   "metadata": {},
   "source": [
    "#### Register dataframe to table"
   ]
  },
  {
   "cell_type": "code",
   "execution_count": 133,
   "metadata": {},
   "outputs": [],
   "source": [
    "df_aug5.registerTempTable(\"TripData\")"
   ]
  },
  {
   "cell_type": "markdown",
   "metadata": {},
   "source": [
    "#### Reports:"
   ]
  },
  {
   "attachments": {
    "image.png": {
     "image/png": "[encoded data removed]"
    }
   },
   "cell_type": "markdown",
   "metadata": {},
   "source": [
    "![image.png](attachment:image.png)"
   ]
  },
  {
   "cell_type": "code",
   "execution_count": 134,
   "metadata": {},
   "outputs": [
    {
     "name": "stdout",
     "output_type": "stream",
     "text": [
      "+-----+----------+-----------+---------+---------------+\n",
      "|Month|TotalTrips|MaxDistance|MaxAmount|MaxTimeDuration|\n",
      "+-----+----------+-----------+---------+---------------+\n",
      "|    1|         4|       9.74|     32.3|           31.0|\n",
      "|    2|         4|       2.85|    18.36|          434.0|\n",
      "|    4|         3|       5.91|     23.3|          439.0|\n",
      "|    5|         1|       1.14|      9.8|            6.0|\n",
      "|    6|         1|       5.85|     31.4|           31.0|\n",
      "|   11|        11|       9.13|     47.3|         1401.0|\n",
      "|   12|   1002408|      97.73|    99.96|         2714.0|\n",
      "+-----+----------+-----------+---------+---------------+\n",
      "\n"
     ]
    }
   ],
   "source": [
    "sql_result1 = spark.sql(\n",
    "    \"SELECT DISTINCT(MONTH(tpep_pickup_datetime)) AS Month,COUNT(VendorID) AS TotalTrips,MAX(trip_distance) AS MaxDistance,MAX(total_amount) AS MaxAmount,MAX(DiffInMinutes) AS MaxTimeDuration FROM TripData GROUP BY MONTH(tpep_pickup_datetime) ORDER BY Month\"\n",
    ")\n",
    "\n",
    "\n",
    "sql_result1.show()"
   ]
  },
  {
   "attachments": {
    "image.png": {
     "image/png": "[encoded data removed]"
    }
   },
   "cell_type": "markdown",
   "metadata": {},
   "source": [
    "![image.png](attachment:image.png)"
   ]
  },
  {
   "cell_type": "code",
   "execution_count": 135,
   "metadata": {},
   "outputs": [
    {
     "name": "stdout",
     "output_type": "stream",
     "text": [
      "+-------------------+-------------------+--------------------+--------------------+---------------+-------------+------------+------------+\n",
      "|    Pickup_Datetime|   Dropoff_Datetime|          PickUpZone|         DropOffZone|passenger_count|trip_distance|total_amount|TimeDuration|\n",
      "+-------------------+-------------------+--------------------+--------------------+---------------+-------------+------------+------------+\n",
      "|2021-01-01 00:10:00|2021-01-01 00:30:47|        East Chelsea|Washington Height...|              1|         9.74|        32.3|        21.0|\n",
      "|2021-04-28 18:43:30|2021-04-29 02:02:52|         Murray Hill|Financial Distric...|              1|         5.91|        23.3|       439.0|\n",
      "|2020-11-30 18:31:24|2020-11-30 18:47:21|   LaGuardia Airport|        East Village|              1|         9.13|        30.3|        16.0|\n",
      "|2021-05-20 02:40:50|2021-05-20 02:47:10|   Battery Park City|Financial Distric...|              1|         1.14|         9.8|         6.0|\n",
      "|2021-02-02 08:54:06|2021-02-02 16:08:32|Upper West Side S...|        Midtown East|              1|         2.85|       18.36|       434.0|\n",
      "|2021-06-10 10:10:48|2021-06-10 10:41:42|   Battery Park City|Upper West Side S...|              1|         5.85|        31.4|        31.0|\n",
      "|2020-12-13 12:32:59|2020-12-13 14:21:01|          Whitestone|                  NA|              1|        97.73|      437.99|       108.0|\n",
      "+-------------------+-------------------+--------------------+--------------------+---------------+-------------+------------+------------+\n",
      "\n"
     ]
    }
   ],
   "source": [
    "sql_result2 = spark.sql(\"\"\"\n",
    "\n",
    "with cte as\n",
    "    (\n",
    "        SELECT MONTH(tpep_pickup_datetime) AS Month,MAX(trip_distance) AS Distance FROM TripData GROUP BY MONTH(tpep_pickup_datetime) ORDER BY Month\n",
    "    )\n",
    "SELECT t.tpep_pickup_datetime as Pickup_Datetime,t.tpep_dropoff_datetime as Dropoff_Datetime,t.PickUpZone,t.DropOffZone,t.passenger_count,t.trip_distance,t.total_amount,t.DiffInMinutes as TimeDuration  FROM TripData t\n",
    "JOIN cte ON t.trip_distance=cte.Distance AND MONTH(t.tpep_pickup_datetime) = cte.Month\n",
    "\n",
    "\"\"\"\n",
    "       \n",
    ")\n",
    "\n",
    "sql_result2.show()"
   ]
  },
  {
   "attachments": {
    "image.png": {
     "image/png": "[encoded data removed]"
    }
   },
   "cell_type": "markdown",
   "metadata": {},
   "source": [
    "![image.png](attachment:image.png)"
   ]
  },
  {
   "cell_type": "code",
   "execution_count": 136,
   "metadata": {},
   "outputs": [
    {
     "name": "stdout",
     "output_type": "stream",
     "text": [
      "+-------------------+-------------------+--------------------+--------------------+---------------+-------------+------------+------------+\n",
      "|    Pickup_Datetime|   Dropoff_Datetime|          PickUpZone|         DropOffZone|passenger_count|trip_distance|total_amount|TimeDuration|\n",
      "+-------------------+-------------------+--------------------+--------------------+---------------+-------------+------------+------------+\n",
      "|2020-11-30 23:36:21|2020-11-30 23:57:45|   LaGuardia Airport| Lincoln Square East|              1|        10.07|        47.3|        21.0|\n",
      "|2021-06-10 10:10:48|2021-06-10 10:41:42|   Battery Park City|Upper West Side S...|              1|         5.85|        31.4|        31.0|\n",
      "|2020-12-01 17:25:32|2020-12-01 18:36:58|Upper East Side S...|     Hammels/Arverne|              1|        30.92|       99.96|        71.0|\n",
      "|2020-12-10 17:46:37|2020-12-10 19:15:29|                  NV|     Hammels/Arverne|              1|        27.09|       99.96|        89.0|\n",
      "|2021-02-02 08:54:06|2021-02-02 16:08:32|Upper West Side S...|        Midtown East|              1|         2.85|       18.36|       434.0|\n",
      "|2021-04-28 18:43:30|2021-04-29 02:02:52|         Murray Hill|Financial Distric...|              1|         5.91|        23.3|       439.0|\n",
      "|2021-01-01 00:10:00|2021-01-01 00:30:47|        East Chelsea|Washington Height...|              1|         9.74|        32.3|        21.0|\n",
      "|2021-05-20 02:40:50|2021-05-20 02:47:10|   Battery Park City|Financial Distric...|              1|         1.14|         9.8|         6.0|\n",
      "+-------------------+-------------------+--------------------+--------------------+---------------+-------------+------------+------------+\n",
      "\n"
     ]
    }
   ],
   "source": [
    "sql_result3 = spark.sql(\"\"\"\n",
    "\n",
    "with cte as\n",
    "    (\n",
    "        SELECT MONTH(tpep_pickup_datetime) AS Month,MAX(total_amount) AS Amount FROM TripData GROUP BY MONTH(tpep_pickup_datetime) ORDER BY Month\n",
    "    )\n",
    "SELECT t.tpep_pickup_datetime as Pickup_Datetime,t.tpep_dropoff_datetime as Dropoff_Datetime,t.PickUpZone,t.DropOffZone,t.passenger_count,t.trip_distance,t.total_amount,t.DiffInMinutes as TimeDuration  FROM TripData t\n",
    "JOIN cte ON t.total_amount=cte.Amount AND MONTH(t.tpep_pickup_datetime) = cte.Month\n",
    "\n",
    "\"\"\"\n",
    "       \n",
    ")\n",
    "\n",
    "sql_result3.show()"
   ]
  },
  {
   "attachments": {
    "image.png": {
     "image/png": "[encoded data removed]"
    }
   },
   "cell_type": "markdown",
   "metadata": {},
   "source": [
    "![image.png](attachment:image.png)"
   ]
  },
  {
   "cell_type": "code",
   "execution_count": 137,
   "metadata": {},
   "outputs": [
    {
     "name": "stdout",
     "output_type": "stream",
     "text": [
      "+------+\n",
      "| Count|\n",
      "+------+\n",
      "|925970|\n",
      "+------+\n",
      "\n"
     ]
    }
   ],
   "source": [
    "sql_result4 = spark.sql(\"\"\"\n",
    "\n",
    "SELECT count(VendorID) AS Count FROM TripData WHERE (congestion_surcharge = 0.75 OR congestion_surcharge = 2.5)\n",
    "\n",
    "\n",
    "\"\"\"\n",
    "       \n",
    ")\n",
    "\n",
    "sql_result4.show()"
   ]
  },
  {
   "attachments": {
    "image.png": {
     "image/png": "[encoded data removed]"
    }
   },
   "cell_type": "markdown",
   "metadata": {},
   "source": [
    "![image.png](attachment:image.png)"
   ]
  },
  {
   "cell_type": "code",
   "execution_count": 138,
   "metadata": {},
   "outputs": [
    {
     "name": "stdout",
     "output_type": "stream",
     "text": [
      "+------+\n",
      "| Count|\n",
      "+------+\n",
      "|925953|\n",
      "+------+\n",
      "\n"
     ]
    }
   ],
   "source": [
    "sql_result5 = spark.sql(\"\"\"\n",
    "\n",
    "SELECT count(VendorID) AS Count FROM TripData \n",
    "WHERE improvement_surcharge = 0.3 AND (congestion_surcharge = 0.75 OR congestion_surcharge = 2.5)\n",
    "\n",
    "\"\"\"\n",
    "       \n",
    ")\n",
    "\n",
    "sql_result5.show()"
   ]
  },
  {
   "attachments": {
    "image.png": {
     "image/png": "[encoded data removed]"
    }
   },
   "cell_type": "markdown",
   "metadata": {},
   "source": [
    "![image.png](attachment:image.png)"
   ]
  },
  {
   "cell_type": "code",
   "execution_count": 139,
   "metadata": {},
   "outputs": [
    {
     "name": "stdout",
     "output_type": "stream",
     "text": [
      "+-----------------+\n",
      "|       Percentage|\n",
      "+-----------------+\n",
      "|92.37235044372088|\n",
      "+-----------------+\n",
      "\n"
     ]
    }
   ],
   "source": [
    "sql_result6 = spark.sql(\"\"\"\n",
    "\n",
    "\n",
    "SELECT count(VendorID) * 100 /(SELECT count(VendorID) FROM TripData) AS Percentage FROM TripData WHERE (congestion_surcharge = 0.75 OR congestion_surcharge = 2.5)\n",
    "\n",
    "\n",
    "\"\"\"\n",
    "       \n",
    ")\n",
    "\n",
    "sql_result6.show()"
   ]
  },
  {
   "attachments": {
    "image.png": {
     "image/png": "[encoded data removed]"
    }
   },
   "cell_type": "markdown",
   "metadata": {},
   "source": [
    "![image.png](attachment:image.png)"
   ]
  },
  {
   "cell_type": "code",
   "execution_count": 149,
   "metadata": {},
   "outputs": [
    {
     "name": "stdout",
     "output_type": "stream",
     "text": [
      "+------------+-----------+---------+---------------+\n",
      "|week_day_abb|MaxDistance|MaxAmount|MaxTimeDuration|\n",
      "+------------+-----------+---------+---------------+\n",
      "|         Sun|      97.73|     99.8|         1439.0|\n",
      "|         Mon|       9.99|     99.9|         1440.0|\n",
      "|         Thu|       9.99|    99.96|         2714.0|\n",
      "|         Sat|      95.10|    99.67|         1440.0|\n",
      "|         Wed|       9.99|    99.92|         1439.0|\n",
      "|         Fri|   94098.46|    99.92|         1440.0|\n",
      "|         Tue|      94.81|    99.96|         1439.0|\n",
      "+------------+-----------+---------+---------------+\n",
      "\n"
     ]
    }
   ],
   "source": [
    "sql_result7_1 = spark.sql(\"\"\"\n",
    "\n",
    "  SELECT week_day_abb,MAX(trip_distance) AS MaxDistance,MAX(total_amount) AS MaxAmount,MAX(DiffInMinutes) AS MaxTimeDuration FROM TripData GROUP BY week_day_abb\n",
    "\n",
    "\n",
    "\"\"\"\n",
    ")  \n",
    "\n",
    "\n",
    "sql_result7_1.show()"
   ]
  },
  {
   "cell_type": "code",
   "execution_count": 153,
   "metadata": {},
   "outputs": [
    {
     "name": "stdout",
     "output_type": "stream",
     "text": [
      "+-----+----------+-------+-----------+---------+---------------+\n",
      "|Month|TotalTrips|WeekDay|MaxDistance|MaxAmount|MaxTimeDuration|\n",
      "+-----+----------+-------+-----------+---------+---------------+\n",
      "|    1|         2|    Thu|       9.36|     29.3|           31.0|\n",
      "|    1|         1|    Wed|       1.56|    14.76|            9.0|\n",
      "|    1|         1|    Fri|       9.74|     32.3|           21.0|\n",
      "|    2|         2|    Tue|       2.85|    18.36|          434.0|\n",
      "|    2|         2|    Wed|       1.49|    14.16|            8.0|\n",
      "|    4|         3|    Wed|       5.91|     23.3|          439.0|\n",
      "|    5|         1|    Thu|       1.14|      9.8|            6.0|\n",
      "|    6|         1|    Thu|       5.85|     31.4|           31.0|\n",
      "|   11|        11|    Mon|       9.13|     47.3|         1401.0|\n",
      "|   12|    186145|    Tue|      94.81|    99.96|         1439.0|\n",
      "|   12|    135216|    Fri|   94098.46|    99.92|         1440.0|\n",
      "|   12|     95902|    Sun|      97.73|     99.8|         1439.0|\n",
      "|   12|    114887|    Sat|      95.10|    99.67|         1440.0|\n",
      "|   12|    131896|    Mon|       9.99|     99.9|         1440.0|\n",
      "|   12|    181505|    Wed|       9.99|    99.92|         1439.0|\n",
      "|   12|    156857|    Thu|       9.99|    99.96|         2714.0|\n",
      "+-----+----------+-------+-----------+---------+---------------+\n",
      "\n"
     ]
    }
   ],
   "source": [
    "sql_result7_2 = spark.sql(\"\"\"\n",
    "\n",
    "  SELECT DISTINCT(MONTH(tpep_pickup_datetime)) AS Month,COUNT(VendorID) AS TotalTrips,week_day_abb AS WeekDay,MAX(trip_distance) AS MaxDistance,MAX(total_amount) AS MaxAmount,MAX(DiffInMinutes) AS MaxTimeDuration FROM TripData GROUP BY MONTH(tpep_pickup_datetime),week_day_abb ORDER BY Month\n",
    "\n",
    "\n",
    "\"\"\"\n",
    ")  \n",
    "\n",
    "\n",
    "sql_result7_2.show()"
   ]
  },
  {
   "attachments": {
    "image.png": {
     "image/png": "[encoded data removed]"
    }
   },
   "cell_type": "markdown",
   "metadata": {},
   "source": [
    "![image.png](attachment:image.png)"
   ]
  },
  {
   "cell_type": "code",
   "execution_count": 156,
   "metadata": {},
   "outputs": [
    {
     "name": "stdout",
     "output_type": "stream",
     "text": [
      "+-------------------+-------------------+------------+--------------------+--------------------+---------------+-------------+------------+------------+\n",
      "|    Pickup_Datetime|   Dropoff_Datetime|week_day_abb|          PickUpZone|         DropOffZone|passenger_count|trip_distance|total_amount|TimeDuration|\n",
      "+-------------------+-------------------+------------+--------------------+--------------------+---------------+-------------+------------+------------+\n",
      "|2020-12-26 17:48:38|2020-12-26 19:21:32|         Sat|         JFK Airport|                  NA|              1|        95.10|      461.67|        93.0|\n",
      "|2020-12-07 22:06:06|2020-12-07 22:37:28|         Mon|        Midtown East|Flatbush/Ditmas Park|              2|         9.99|        36.3|        31.0|\n",
      "|2020-12-14 06:06:01|2020-12-14 06:24:55|         Mon|    Garment District|   LaGuardia Airport|              4|         9.99|       37.92|        19.0|\n",
      "|2020-12-14 23:01:44|2020-12-14 23:20:05|         Mon|   LaGuardia Airport|Washington Height...|              1|         9.99|       41.42|        18.0|\n",
      "|2020-12-21 14:53:07|2020-12-21 15:32:53|         Mon|   LaGuardia Airport| Lincoln Square West|              1|         9.99|        53.3|        40.0|\n",
      "|2020-12-28 07:40:47|2020-12-28 08:07:15|         Mon|TriBeCa/Civic Center|Washington Height...|              2|         9.99|        35.3|        26.0|\n",
      "|2020-12-28 09:02:38|2020-12-28 09:37:35|         Mon|   LaGuardia Airport|            Flatiron|              4|         9.99|       42.36|        35.0|\n",
      "|2020-12-28 09:44:12|2020-12-28 10:09:47|         Mon|            Gramercy|    Sunset Park West|              1|         9.99|       40.56|        26.0|\n",
      "|2020-12-28 11:48:38|2020-12-28 12:09:20|         Mon|Upper West Side S...|   LaGuardia Airport|              1|         9.99|       37.92|        21.0|\n",
      "|2020-12-28 15:09:48|2020-12-28 15:39:50|         Mon|   LaGuardia Airport|      Midtown Center|              3|         9.99|        49.7|        30.0|\n",
      "|2020-12-28 16:43:08|2020-12-28 17:16:04|         Mon|   LaGuardia Airport|Upper West Side N...|              1|         9.99|        52.1|        33.0|\n",
      "|2020-12-21 19:12:10|2020-12-21 20:12:03|         Mon|                  NA|West Farms/Bronx ...|           null|         9.99|       38.29|        60.0|\n",
      "|2020-12-03 10:44:05|2020-12-03 11:05:56|         Thu|Times Sq/Theatre ...|Flushing Meadows-...|              2|         9.99|       48.02|        22.0|\n",
      "|2020-12-03 13:15:12|2020-12-03 13:52:22|         Thu|     Lenox Hill East|        Forest Hills|              1|         9.99|       45.36|        37.0|\n",
      "|2020-12-03 16:17:25|2020-12-03 16:55:48|         Thu|         JFK Airport|East Flatbush/Rem...|              4|         9.99|        35.8|        38.0|\n",
      "|2020-12-03 16:46:39|2020-12-03 17:33:33|         Thu|       Midtown North|   LaGuardia Airport|              1|         9.99|       50.76|        47.0|\n",
      "|2020-12-10 17:49:06|2020-12-10 18:14:34|         Thu|   LaGuardia Airport|        East Chelsea|              5|         9.99|        48.5|        25.0|\n",
      "|2020-12-17 12:45:27|2020-12-17 13:11:02|         Thu|        Central Park|   LaGuardia Airport|              1|         9.99|        46.7|        26.0|\n",
      "|2020-12-17 14:42:10|2020-12-17 15:17:35|         Thu|   LaGuardia Airport|Penn Station/Madi...|              1|         9.99|        36.8|        35.0|\n",
      "|2020-12-17 21:45:59|2020-12-17 22:12:45|         Thu|        West Village|    Bensonhurst West|              1|         9.99|       50.52|        27.0|\n",
      "+-------------------+-------------------+------------+--------------------+--------------------+---------------+-------------+------------+------------+\n",
      "only showing top 20 rows\n",
      "\n"
     ]
    }
   ],
   "source": [
    "sql_result8 = spark.sql(\"\"\"\n",
    "\n",
    "with cte as\n",
    "    (\n",
    "        SELECT week_day_abb AS WeekDay,MAX(trip_distance) AS Distance FROM TripData GROUP BY week_day_abb\n",
    "    )\n",
    "SELECT t.tpep_pickup_datetime as Pickup_Datetime,t.tpep_dropoff_datetime as Dropoff_Datetime,t.week_day_abb,t.PickUpZone,t.DropOffZone,t.passenger_count,t.trip_distance,t.total_amount,t.DiffInMinutes as TimeDuration  FROM TripData t\n",
    "JOIN cte ON t.trip_distance=cte.Distance AND t.week_day_abb = cte.WeekDay\n",
    "\n",
    "\"\"\"\n",
    "       \n",
    ")\n",
    "\n",
    "sql_result8.show()"
   ]
  },
  {
   "attachments": {
    "image.png": {
     "image/png": "[encoded data removed]"
    }
   },
   "cell_type": "markdown",
   "metadata": {},
   "source": [
    "![image.png](attachment:image.png)"
   ]
  },
  {
   "cell_type": "code",
   "execution_count": 157,
   "metadata": {},
   "outputs": [
    {
     "name": "stdout",
     "output_type": "stream",
     "text": [
      "+-------------------+-------------------+------------+--------------------+--------------------+---------------+-------------+------------+------------+\n",
      "|    Pickup_Datetime|   Dropoff_Datetime|week_day_abb|          PickUpZone|         DropOffZone|passenger_count|trip_distance|total_amount|TimeDuration|\n",
      "+-------------------+-------------------+------------+--------------------+--------------------+---------------+-------------+------------+------------+\n",
      "|2020-12-30 12:57:58|2020-12-30 14:09:06|         Wed|        West Village|         JFK Airport|              1|        32.18|       99.92|        71.0|\n",
      "|2020-12-12 00:45:36|2020-12-12 01:28:17|         Sat|        Coney Island|Van Cortlandt Vil...|              1|        34.00|       99.67|        43.0|\n",
      "|2020-12-06 12:50:26|2020-12-06 13:21:53|         Sun|        Central Park|      Newark Airport|              1|        18.10|        99.8|        31.0|\n",
      "|2020-12-01 17:25:32|2020-12-01 18:36:58|         Tue|Upper East Side S...|     Hammels/Arverne|              1|        30.92|       99.96|        71.0|\n",
      "|2020-12-10 17:46:37|2020-12-10 19:15:29|         Thu|                  NV|     Hammels/Arverne|              1|        27.09|       99.96|        89.0|\n",
      "|2020-12-18 20:01:17|2020-12-18 21:42:01|         Fri|Times Sq/Theatre ...|                  NA|              1|        26.87|       99.92|       101.0|\n",
      "|2020-12-07 11:32:26|2020-12-07 12:02:07|         Mon|        Clinton East|      Newark Airport|              1|        17.09|        99.9|        30.0|\n",
      "+-------------------+-------------------+------------+--------------------+--------------------+---------------+-------------+------------+------------+\n",
      "\n"
     ]
    }
   ],
   "source": [
    "sql_result9 = spark.sql(\"\"\"\n",
    "\n",
    "with cte as\n",
    "    (\n",
    "        SELECT week_day_abb AS WeekDay,MAX(total_amount) AS Amount FROM TripData GROUP BY week_day_abb\n",
    "    )\n",
    "SELECT t.tpep_pickup_datetime as Pickup_Datetime,t.tpep_dropoff_datetime as Dropoff_Datetime,t.week_day_abb,t.PickUpZone,t.DropOffZone,t.passenger_count,t.trip_distance,t.total_amount,t.DiffInMinutes as TimeDuration  FROM TripData t\n",
    "JOIN cte ON t.total_amount=cte.Amount AND t.week_day_abb = cte.WeekDay\n",
    "\n",
    "\"\"\"\n",
    "       \n",
    ")\n",
    "\n",
    "sql_result9.show()"
   ]
  },
  {
   "attachments": {
    "image.png": {
     "image/png": "[encoded data removed]"
    }
   },
   "cell_type": "markdown",
   "metadata": {},
   "source": [
    "![image.png](attachment:image.png)"
   ]
  },
  {
   "cell_type": "code",
   "execution_count": 158,
   "metadata": {},
   "outputs": [
    {
     "name": "stdout",
     "output_type": "stream",
     "text": [
      "+-------------------+-------------------+------------+--------------------+--------------------+---------------+-------------+------------+------------+\n",
      "|    Pickup_Datetime|   Dropoff_Datetime|week_day_abb|          PickUpZone|         DropOffZone|passenger_count|trip_distance|total_amount|TimeDuration|\n",
      "+-------------------+-------------------+------------+--------------------+--------------------+---------------+-------------+------------+------------+\n",
      "|2020-12-14 10:29:14|2020-12-15 10:28:49|         Mon|Upper West Side S...|Upper East Side S...|              5|         1.48|       14.12|      1440.0|\n",
      "|2020-12-09 16:42:25|2020-12-10 16:41:20|         Wed|                  NV|                  NV|              1|         5.97|       33.96|      1439.0|\n",
      "|2020-12-23 07:19:35|2020-12-24 07:18:46|         Wed| Little Italy/NoLiTa|   East Harlem South|              1|         7.00|        39.3|      1439.0|\n",
      "|2020-12-30 15:46:01|2020-12-31 15:44:53|         Wed|Upper East Side S...| Little Italy/NoLiTa|              2|         3.12|        18.3|      1439.0|\n",
      "|2020-12-30 16:44:45|2020-12-31 16:43:42|         Wed| Lincoln Square East|Upper East Side S...|              1|         1.52|       14.72|      1439.0|\n",
      "|2020-12-30 13:38:41|2020-12-31 13:37:24|         Wed|Upper East Side N...| Lincoln Square East|              1|         2.23|       17.16|      1439.0|\n",
      "|2020-12-25 17:56:52|2020-12-26 17:56:25|         Fri|            Flatiron|       Midtown South|              1|         1.61|       14.04|      1440.0|\n",
      "|2020-12-22 13:38:24|2020-12-23 13:37:10|         Tue|Greenwich Village...|      Yorkville West|              1|         5.12|        31.4|      1439.0|\n",
      "|2020-12-22 15:04:09|2020-12-23 15:02:44|         Tue|      Yorkville West|        East Village|              5|         6.12|       26.56|      1439.0|\n",
      "|2020-12-29 13:29:57|2020-12-30 13:29:15|         Tue|            Union Sq|Financial Distric...|              5|         2.63|        17.6|      1439.0|\n",
      "|2020-12-20 12:21:27|2020-12-21 12:20:55|         Sun|         JFK Airport|                  NV|              1|        35.13|      244.05|      1439.0|\n",
      "|2020-12-24 14:50:16|2020-12-26 12:03:56|         Thu|         JFK Airport|         JFK Airport|              1|         4.99|        16.3|      2714.0|\n",
      "|2020-12-05 16:42:37|2020-12-06 16:42:09|         Sat|Upper East Side N...|Upper West Side S...|              6|         1.44|       12.43|      1440.0|\n",
      "+-------------------+-------------------+------------+--------------------+--------------------+---------------+-------------+------------+------------+\n",
      "\n"
     ]
    }
   ],
   "source": [
    "sql_result10 = spark.sql(\"\"\"\n",
    "\n",
    "with cte as\n",
    "    (\n",
    "        SELECT week_day_abb AS WeekDay,MAX(DiffInMinutes) AS TimeDuration FROM TripData GROUP BY week_day_abb\n",
    "    )\n",
    "SELECT t.tpep_pickup_datetime as Pickup_Datetime,t.tpep_dropoff_datetime as Dropoff_Datetime,t.week_day_abb,t.PickUpZone,t.DropOffZone,t.passenger_count,t.trip_distance,t.total_amount,t.DiffInMinutes as TimeDuration  FROM TripData t\n",
    "JOIN cte ON t.DiffInMinutes=cte.TimeDuration AND t.week_day_abb = cte.WeekDay\n",
    "\n",
    "\"\"\"\n",
    "       \n",
    ")\n",
    "\n",
    "sql_result10.show()"
   ]
  }
 ],
 "metadata": {
  "kernelspec": {
   "display_name": "Python 3",
   "language": "python",
   "name": "python3"
  },
  "language_info": {
   "codemirror_mode": {
    "name": "ipython",
    "version": 3
   },
   "file_extension": ".py",
   "mimetype": "text/x-python",
   "name": "python",
   "nbconvert_exporter": "python",
   "pygments_lexer": "ipython3",
   "version": "3.7.6"
  }
 },
 "nbformat": 4,
 "nbformat_minor": 4
}
